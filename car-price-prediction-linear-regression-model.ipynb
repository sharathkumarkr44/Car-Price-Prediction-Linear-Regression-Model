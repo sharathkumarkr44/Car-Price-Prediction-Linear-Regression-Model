{
 "cells": [
  {
   "cell_type": "code",
   "execution_count": 1,
   "id": "ffc223d8",
   "metadata": {
    "execution": {
     "iopub.execute_input": "2022-08-01T16:11:34.640844Z",
     "iopub.status.busy": "2022-08-01T16:11:34.640403Z",
     "iopub.status.idle": "2022-08-01T16:11:35.718273Z",
     "shell.execute_reply": "2022-08-01T16:11:35.717106Z"
    },
    "papermill": {
     "duration": 1.090996,
     "end_time": "2022-08-01T16:11:35.721158",
     "exception": false,
     "start_time": "2022-08-01T16:11:34.630162",
     "status": "completed"
    },
    "tags": []
   },
   "outputs": [],
   "source": [
    "import pandas as pd\n",
    "import seaborn as sns\n",
    "import numpy as np\n",
    "import matplotlib.pyplot as plt"
   ]
  },
  {
   "cell_type": "code",
   "execution_count": 2,
   "id": "6e8bd9cd",
   "metadata": {
    "execution": {
     "iopub.execute_input": "2022-08-01T16:11:35.738577Z",
     "iopub.status.busy": "2022-08-01T16:11:35.737664Z",
     "iopub.status.idle": "2022-08-01T16:11:35.743912Z",
     "shell.execute_reply": "2022-08-01T16:11:35.742856Z"
    },
    "papermill": {
     "duration": 0.017563,
     "end_time": "2022-08-01T16:11:35.746535",
     "exception": false,
     "start_time": "2022-08-01T16:11:35.728972",
     "status": "completed"
    },
    "tags": []
   },
   "outputs": [
    {
     "name": "stdout",
     "output_type": "stream",
     "text": [
      "1.3.5\n"
     ]
    }
   ],
   "source": [
    "print(pd.__version__)"
   ]
  },
  {
   "cell_type": "code",
   "execution_count": 3,
   "id": "9d544c9f",
   "metadata": {
    "execution": {
     "iopub.execute_input": "2022-08-01T16:11:35.764605Z",
     "iopub.status.busy": "2022-08-01T16:11:35.763859Z",
     "iopub.status.idle": "2022-08-01T16:11:35.791945Z",
     "shell.execute_reply": "2022-08-01T16:11:35.790746Z"
    },
    "papermill": {
     "duration": 0.040089,
     "end_time": "2022-08-01T16:11:35.794634",
     "exception": false,
     "start_time": "2022-08-01T16:11:35.754545",
     "status": "completed"
    },
    "tags": []
   },
   "outputs": [],
   "source": [
    "df=pd.read_csv('../input/car-price-prediction/CarPrice_Assignment.csv')"
   ]
  },
  {
   "cell_type": "code",
   "execution_count": 4,
   "id": "7cc83595",
   "metadata": {
    "execution": {
     "iopub.execute_input": "2022-08-01T16:11:35.812105Z",
     "iopub.status.busy": "2022-08-01T16:11:35.811333Z",
     "iopub.status.idle": "2022-08-01T16:11:35.847081Z",
     "shell.execute_reply": "2022-08-01T16:11:35.845918Z"
    },
    "papermill": {
     "duration": 0.047012,
     "end_time": "2022-08-01T16:11:35.849517",
     "exception": false,
     "start_time": "2022-08-01T16:11:35.802505",
     "status": "completed"
    },
    "tags": []
   },
   "outputs": [
    {
     "data": {
      "text/html": [
       "<div>\n",
       "<style scoped>\n",
       "    .dataframe tbody tr th:only-of-type {\n",
       "        vertical-align: middle;\n",
       "    }\n",
       "\n",
       "    .dataframe tbody tr th {\n",
       "        vertical-align: top;\n",
       "    }\n",
       "\n",
       "    .dataframe thead th {\n",
       "        text-align: right;\n",
       "    }\n",
       "</style>\n",
       "<table border=\"1\" class=\"dataframe\">\n",
       "  <thead>\n",
       "    <tr style=\"text-align: right;\">\n",
       "      <th></th>\n",
       "      <th>car_ID</th>\n",
       "      <th>symboling</th>\n",
       "      <th>CarName</th>\n",
       "      <th>fueltype</th>\n",
       "      <th>aspiration</th>\n",
       "      <th>doornumber</th>\n",
       "      <th>carbody</th>\n",
       "      <th>drivewheel</th>\n",
       "      <th>enginelocation</th>\n",
       "      <th>wheelbase</th>\n",
       "      <th>...</th>\n",
       "      <th>enginesize</th>\n",
       "      <th>fuelsystem</th>\n",
       "      <th>boreratio</th>\n",
       "      <th>stroke</th>\n",
       "      <th>compressionratio</th>\n",
       "      <th>horsepower</th>\n",
       "      <th>peakrpm</th>\n",
       "      <th>citympg</th>\n",
       "      <th>highwaympg</th>\n",
       "      <th>price</th>\n",
       "    </tr>\n",
       "  </thead>\n",
       "  <tbody>\n",
       "    <tr>\n",
       "      <th>0</th>\n",
       "      <td>1</td>\n",
       "      <td>3</td>\n",
       "      <td>alfa-romero giulia</td>\n",
       "      <td>gas</td>\n",
       "      <td>std</td>\n",
       "      <td>two</td>\n",
       "      <td>convertible</td>\n",
       "      <td>rwd</td>\n",
       "      <td>front</td>\n",
       "      <td>88.6</td>\n",
       "      <td>...</td>\n",
       "      <td>130</td>\n",
       "      <td>mpfi</td>\n",
       "      <td>3.47</td>\n",
       "      <td>2.68</td>\n",
       "      <td>9.0</td>\n",
       "      <td>111</td>\n",
       "      <td>5000</td>\n",
       "      <td>21</td>\n",
       "      <td>27</td>\n",
       "      <td>13495.0</td>\n",
       "    </tr>\n",
       "    <tr>\n",
       "      <th>1</th>\n",
       "      <td>2</td>\n",
       "      <td>3</td>\n",
       "      <td>alfa-romero stelvio</td>\n",
       "      <td>gas</td>\n",
       "      <td>std</td>\n",
       "      <td>two</td>\n",
       "      <td>convertible</td>\n",
       "      <td>rwd</td>\n",
       "      <td>front</td>\n",
       "      <td>88.6</td>\n",
       "      <td>...</td>\n",
       "      <td>130</td>\n",
       "      <td>mpfi</td>\n",
       "      <td>3.47</td>\n",
       "      <td>2.68</td>\n",
       "      <td>9.0</td>\n",
       "      <td>111</td>\n",
       "      <td>5000</td>\n",
       "      <td>21</td>\n",
       "      <td>27</td>\n",
       "      <td>16500.0</td>\n",
       "    </tr>\n",
       "    <tr>\n",
       "      <th>2</th>\n",
       "      <td>3</td>\n",
       "      <td>1</td>\n",
       "      <td>alfa-romero Quadrifoglio</td>\n",
       "      <td>gas</td>\n",
       "      <td>std</td>\n",
       "      <td>two</td>\n",
       "      <td>hatchback</td>\n",
       "      <td>rwd</td>\n",
       "      <td>front</td>\n",
       "      <td>94.5</td>\n",
       "      <td>...</td>\n",
       "      <td>152</td>\n",
       "      <td>mpfi</td>\n",
       "      <td>2.68</td>\n",
       "      <td>3.47</td>\n",
       "      <td>9.0</td>\n",
       "      <td>154</td>\n",
       "      <td>5000</td>\n",
       "      <td>19</td>\n",
       "      <td>26</td>\n",
       "      <td>16500.0</td>\n",
       "    </tr>\n",
       "    <tr>\n",
       "      <th>3</th>\n",
       "      <td>4</td>\n",
       "      <td>2</td>\n",
       "      <td>audi 100 ls</td>\n",
       "      <td>gas</td>\n",
       "      <td>std</td>\n",
       "      <td>four</td>\n",
       "      <td>sedan</td>\n",
       "      <td>fwd</td>\n",
       "      <td>front</td>\n",
       "      <td>99.8</td>\n",
       "      <td>...</td>\n",
       "      <td>109</td>\n",
       "      <td>mpfi</td>\n",
       "      <td>3.19</td>\n",
       "      <td>3.40</td>\n",
       "      <td>10.0</td>\n",
       "      <td>102</td>\n",
       "      <td>5500</td>\n",
       "      <td>24</td>\n",
       "      <td>30</td>\n",
       "      <td>13950.0</td>\n",
       "    </tr>\n",
       "    <tr>\n",
       "      <th>4</th>\n",
       "      <td>5</td>\n",
       "      <td>2</td>\n",
       "      <td>audi 100ls</td>\n",
       "      <td>gas</td>\n",
       "      <td>std</td>\n",
       "      <td>four</td>\n",
       "      <td>sedan</td>\n",
       "      <td>4wd</td>\n",
       "      <td>front</td>\n",
       "      <td>99.4</td>\n",
       "      <td>...</td>\n",
       "      <td>136</td>\n",
       "      <td>mpfi</td>\n",
       "      <td>3.19</td>\n",
       "      <td>3.40</td>\n",
       "      <td>8.0</td>\n",
       "      <td>115</td>\n",
       "      <td>5500</td>\n",
       "      <td>18</td>\n",
       "      <td>22</td>\n",
       "      <td>17450.0</td>\n",
       "    </tr>\n",
       "  </tbody>\n",
       "</table>\n",
       "<p>5 rows × 26 columns</p>\n",
       "</div>"
      ],
      "text/plain": [
       "   car_ID  symboling                   CarName fueltype aspiration doornumber  \\\n",
       "0       1          3        alfa-romero giulia      gas        std        two   \n",
       "1       2          3       alfa-romero stelvio      gas        std        two   \n",
       "2       3          1  alfa-romero Quadrifoglio      gas        std        two   \n",
       "3       4          2               audi 100 ls      gas        std       four   \n",
       "4       5          2                audi 100ls      gas        std       four   \n",
       "\n",
       "       carbody drivewheel enginelocation  wheelbase  ...  enginesize  \\\n",
       "0  convertible        rwd          front       88.6  ...         130   \n",
       "1  convertible        rwd          front       88.6  ...         130   \n",
       "2    hatchback        rwd          front       94.5  ...         152   \n",
       "3        sedan        fwd          front       99.8  ...         109   \n",
       "4        sedan        4wd          front       99.4  ...         136   \n",
       "\n",
       "   fuelsystem  boreratio  stroke compressionratio horsepower  peakrpm citympg  \\\n",
       "0        mpfi       3.47    2.68              9.0        111     5000      21   \n",
       "1        mpfi       3.47    2.68              9.0        111     5000      21   \n",
       "2        mpfi       2.68    3.47              9.0        154     5000      19   \n",
       "3        mpfi       3.19    3.40             10.0        102     5500      24   \n",
       "4        mpfi       3.19    3.40              8.0        115     5500      18   \n",
       "\n",
       "   highwaympg    price  \n",
       "0          27  13495.0  \n",
       "1          27  16500.0  \n",
       "2          26  16500.0  \n",
       "3          30  13950.0  \n",
       "4          22  17450.0  \n",
       "\n",
       "[5 rows x 26 columns]"
      ]
     },
     "execution_count": 4,
     "metadata": {},
     "output_type": "execute_result"
    }
   ],
   "source": [
    "df.head()"
   ]
  },
  {
   "cell_type": "code",
   "execution_count": 5,
   "id": "672cf6f0",
   "metadata": {
    "execution": {
     "iopub.execute_input": "2022-08-01T16:11:35.868249Z",
     "iopub.status.busy": "2022-08-01T16:11:35.866428Z",
     "iopub.status.idle": "2022-08-01T16:11:35.876886Z",
     "shell.execute_reply": "2022-08-01T16:11:35.875900Z"
    },
    "papermill": {
     "duration": 0.022021,
     "end_time": "2022-08-01T16:11:35.879431",
     "exception": false,
     "start_time": "2022-08-01T16:11:35.857410",
     "status": "completed"
    },
    "tags": []
   },
   "outputs": [],
   "source": [
    "df = df.drop(['car_ID'],axis=1)"
   ]
  },
  {
   "cell_type": "code",
   "execution_count": 6,
   "id": "e3612268",
   "metadata": {
    "execution": {
     "iopub.execute_input": "2022-08-01T16:11:35.897134Z",
     "iopub.status.busy": "2022-08-01T16:11:35.896289Z",
     "iopub.status.idle": "2022-08-01T16:11:35.901856Z",
     "shell.execute_reply": "2022-08-01T16:11:35.901115Z"
    },
    "papermill": {
     "duration": 0.016905,
     "end_time": "2022-08-01T16:11:35.904162",
     "exception": false,
     "start_time": "2022-08-01T16:11:35.887257",
     "status": "completed"
    },
    "tags": []
   },
   "outputs": [
    {
     "data": {
      "text/plain": [
       "(205, 25)"
      ]
     },
     "execution_count": 6,
     "metadata": {},
     "output_type": "execute_result"
    }
   ],
   "source": [
    "df.shape"
   ]
  },
  {
   "cell_type": "code",
   "execution_count": 7,
   "id": "f9a341af",
   "metadata": {
    "execution": {
     "iopub.execute_input": "2022-08-01T16:11:35.922025Z",
     "iopub.status.busy": "2022-08-01T16:11:35.921344Z",
     "iopub.status.idle": "2022-08-01T16:11:35.977716Z",
     "shell.execute_reply": "2022-08-01T16:11:35.976594Z"
    },
    "papermill": {
     "duration": 0.068246,
     "end_time": "2022-08-01T16:11:35.980352",
     "exception": false,
     "start_time": "2022-08-01T16:11:35.912106",
     "status": "completed"
    },
    "tags": []
   },
   "outputs": [
    {
     "data": {
      "text/html": [
       "<div>\n",
       "<style scoped>\n",
       "    .dataframe tbody tr th:only-of-type {\n",
       "        vertical-align: middle;\n",
       "    }\n",
       "\n",
       "    .dataframe tbody tr th {\n",
       "        vertical-align: top;\n",
       "    }\n",
       "\n",
       "    .dataframe thead th {\n",
       "        text-align: right;\n",
       "    }\n",
       "</style>\n",
       "<table border=\"1\" class=\"dataframe\">\n",
       "  <thead>\n",
       "    <tr style=\"text-align: right;\">\n",
       "      <th></th>\n",
       "      <th>symboling</th>\n",
       "      <th>wheelbase</th>\n",
       "      <th>carlength</th>\n",
       "      <th>carwidth</th>\n",
       "      <th>carheight</th>\n",
       "      <th>curbweight</th>\n",
       "      <th>enginesize</th>\n",
       "      <th>boreratio</th>\n",
       "      <th>stroke</th>\n",
       "      <th>compressionratio</th>\n",
       "      <th>horsepower</th>\n",
       "      <th>peakrpm</th>\n",
       "      <th>citympg</th>\n",
       "      <th>highwaympg</th>\n",
       "      <th>price</th>\n",
       "    </tr>\n",
       "  </thead>\n",
       "  <tbody>\n",
       "    <tr>\n",
       "      <th>count</th>\n",
       "      <td>205.000000</td>\n",
       "      <td>205.000000</td>\n",
       "      <td>205.000000</td>\n",
       "      <td>205.000000</td>\n",
       "      <td>205.000000</td>\n",
       "      <td>205.000000</td>\n",
       "      <td>205.000000</td>\n",
       "      <td>205.000000</td>\n",
       "      <td>205.000000</td>\n",
       "      <td>205.000000</td>\n",
       "      <td>205.000000</td>\n",
       "      <td>205.000000</td>\n",
       "      <td>205.000000</td>\n",
       "      <td>205.000000</td>\n",
       "      <td>205.000000</td>\n",
       "    </tr>\n",
       "    <tr>\n",
       "      <th>mean</th>\n",
       "      <td>0.834146</td>\n",
       "      <td>98.756585</td>\n",
       "      <td>174.049268</td>\n",
       "      <td>65.907805</td>\n",
       "      <td>53.724878</td>\n",
       "      <td>2555.565854</td>\n",
       "      <td>126.907317</td>\n",
       "      <td>3.329756</td>\n",
       "      <td>3.255415</td>\n",
       "      <td>10.142537</td>\n",
       "      <td>104.117073</td>\n",
       "      <td>5125.121951</td>\n",
       "      <td>25.219512</td>\n",
       "      <td>30.751220</td>\n",
       "      <td>13276.710571</td>\n",
       "    </tr>\n",
       "    <tr>\n",
       "      <th>std</th>\n",
       "      <td>1.245307</td>\n",
       "      <td>6.021776</td>\n",
       "      <td>12.337289</td>\n",
       "      <td>2.145204</td>\n",
       "      <td>2.443522</td>\n",
       "      <td>520.680204</td>\n",
       "      <td>41.642693</td>\n",
       "      <td>0.270844</td>\n",
       "      <td>0.313597</td>\n",
       "      <td>3.972040</td>\n",
       "      <td>39.544167</td>\n",
       "      <td>476.985643</td>\n",
       "      <td>6.542142</td>\n",
       "      <td>6.886443</td>\n",
       "      <td>7988.852332</td>\n",
       "    </tr>\n",
       "    <tr>\n",
       "      <th>min</th>\n",
       "      <td>-2.000000</td>\n",
       "      <td>86.600000</td>\n",
       "      <td>141.100000</td>\n",
       "      <td>60.300000</td>\n",
       "      <td>47.800000</td>\n",
       "      <td>1488.000000</td>\n",
       "      <td>61.000000</td>\n",
       "      <td>2.540000</td>\n",
       "      <td>2.070000</td>\n",
       "      <td>7.000000</td>\n",
       "      <td>48.000000</td>\n",
       "      <td>4150.000000</td>\n",
       "      <td>13.000000</td>\n",
       "      <td>16.000000</td>\n",
       "      <td>5118.000000</td>\n",
       "    </tr>\n",
       "    <tr>\n",
       "      <th>25%</th>\n",
       "      <td>0.000000</td>\n",
       "      <td>94.500000</td>\n",
       "      <td>166.300000</td>\n",
       "      <td>64.100000</td>\n",
       "      <td>52.000000</td>\n",
       "      <td>2145.000000</td>\n",
       "      <td>97.000000</td>\n",
       "      <td>3.150000</td>\n",
       "      <td>3.110000</td>\n",
       "      <td>8.600000</td>\n",
       "      <td>70.000000</td>\n",
       "      <td>4800.000000</td>\n",
       "      <td>19.000000</td>\n",
       "      <td>25.000000</td>\n",
       "      <td>7788.000000</td>\n",
       "    </tr>\n",
       "    <tr>\n",
       "      <th>50%</th>\n",
       "      <td>1.000000</td>\n",
       "      <td>97.000000</td>\n",
       "      <td>173.200000</td>\n",
       "      <td>65.500000</td>\n",
       "      <td>54.100000</td>\n",
       "      <td>2414.000000</td>\n",
       "      <td>120.000000</td>\n",
       "      <td>3.310000</td>\n",
       "      <td>3.290000</td>\n",
       "      <td>9.000000</td>\n",
       "      <td>95.000000</td>\n",
       "      <td>5200.000000</td>\n",
       "      <td>24.000000</td>\n",
       "      <td>30.000000</td>\n",
       "      <td>10295.000000</td>\n",
       "    </tr>\n",
       "    <tr>\n",
       "      <th>75%</th>\n",
       "      <td>2.000000</td>\n",
       "      <td>102.400000</td>\n",
       "      <td>183.100000</td>\n",
       "      <td>66.900000</td>\n",
       "      <td>55.500000</td>\n",
       "      <td>2935.000000</td>\n",
       "      <td>141.000000</td>\n",
       "      <td>3.580000</td>\n",
       "      <td>3.410000</td>\n",
       "      <td>9.400000</td>\n",
       "      <td>116.000000</td>\n",
       "      <td>5500.000000</td>\n",
       "      <td>30.000000</td>\n",
       "      <td>34.000000</td>\n",
       "      <td>16503.000000</td>\n",
       "    </tr>\n",
       "    <tr>\n",
       "      <th>max</th>\n",
       "      <td>3.000000</td>\n",
       "      <td>120.900000</td>\n",
       "      <td>208.100000</td>\n",
       "      <td>72.300000</td>\n",
       "      <td>59.800000</td>\n",
       "      <td>4066.000000</td>\n",
       "      <td>326.000000</td>\n",
       "      <td>3.940000</td>\n",
       "      <td>4.170000</td>\n",
       "      <td>23.000000</td>\n",
       "      <td>288.000000</td>\n",
       "      <td>6600.000000</td>\n",
       "      <td>49.000000</td>\n",
       "      <td>54.000000</td>\n",
       "      <td>45400.000000</td>\n",
       "    </tr>\n",
       "  </tbody>\n",
       "</table>\n",
       "</div>"
      ],
      "text/plain": [
       "        symboling   wheelbase   carlength    carwidth   carheight  \\\n",
       "count  205.000000  205.000000  205.000000  205.000000  205.000000   \n",
       "mean     0.834146   98.756585  174.049268   65.907805   53.724878   \n",
       "std      1.245307    6.021776   12.337289    2.145204    2.443522   \n",
       "min     -2.000000   86.600000  141.100000   60.300000   47.800000   \n",
       "25%      0.000000   94.500000  166.300000   64.100000   52.000000   \n",
       "50%      1.000000   97.000000  173.200000   65.500000   54.100000   \n",
       "75%      2.000000  102.400000  183.100000   66.900000   55.500000   \n",
       "max      3.000000  120.900000  208.100000   72.300000   59.800000   \n",
       "\n",
       "        curbweight  enginesize   boreratio      stroke  compressionratio  \\\n",
       "count   205.000000  205.000000  205.000000  205.000000        205.000000   \n",
       "mean   2555.565854  126.907317    3.329756    3.255415         10.142537   \n",
       "std     520.680204   41.642693    0.270844    0.313597          3.972040   \n",
       "min    1488.000000   61.000000    2.540000    2.070000          7.000000   \n",
       "25%    2145.000000   97.000000    3.150000    3.110000          8.600000   \n",
       "50%    2414.000000  120.000000    3.310000    3.290000          9.000000   \n",
       "75%    2935.000000  141.000000    3.580000    3.410000          9.400000   \n",
       "max    4066.000000  326.000000    3.940000    4.170000         23.000000   \n",
       "\n",
       "       horsepower      peakrpm     citympg  highwaympg         price  \n",
       "count  205.000000   205.000000  205.000000  205.000000    205.000000  \n",
       "mean   104.117073  5125.121951   25.219512   30.751220  13276.710571  \n",
       "std     39.544167   476.985643    6.542142    6.886443   7988.852332  \n",
       "min     48.000000  4150.000000   13.000000   16.000000   5118.000000  \n",
       "25%     70.000000  4800.000000   19.000000   25.000000   7788.000000  \n",
       "50%     95.000000  5200.000000   24.000000   30.000000  10295.000000  \n",
       "75%    116.000000  5500.000000   30.000000   34.000000  16503.000000  \n",
       "max    288.000000  6600.000000   49.000000   54.000000  45400.000000  "
      ]
     },
     "execution_count": 7,
     "metadata": {},
     "output_type": "execute_result"
    }
   ],
   "source": [
    "df.describe()"
   ]
  },
  {
   "cell_type": "code",
   "execution_count": 8,
   "id": "a9da01ce",
   "metadata": {
    "execution": {
     "iopub.execute_input": "2022-08-01T16:11:36.000142Z",
     "iopub.status.busy": "2022-08-01T16:11:35.999021Z",
     "iopub.status.idle": "2022-08-01T16:11:36.008858Z",
     "shell.execute_reply": "2022-08-01T16:11:36.007762Z"
    },
    "papermill": {
     "duration": 0.021647,
     "end_time": "2022-08-01T16:11:36.011018",
     "exception": false,
     "start_time": "2022-08-01T16:11:35.989371",
     "status": "completed"
    },
    "tags": []
   },
   "outputs": [
    {
     "data": {
      "text/plain": [
       "toyota corona           6\n",
       "toyota corolla          6\n",
       "peugeot 504             6\n",
       "subaru dl               4\n",
       "mitsubishi mirage g4    3\n",
       "                       ..\n",
       "mazda glc 4             1\n",
       "mazda rx2 coupe         1\n",
       "maxda glc deluxe        1\n",
       "maxda rx3               1\n",
       "volvo 246               1\n",
       "Name: CarName, Length: 147, dtype: int64"
      ]
     },
     "execution_count": 8,
     "metadata": {},
     "output_type": "execute_result"
    }
   ],
   "source": [
    "df['CarName'].value_counts()"
   ]
  },
  {
   "cell_type": "code",
   "execution_count": 9,
   "id": "d2f79f85",
   "metadata": {
    "execution": {
     "iopub.execute_input": "2022-08-01T16:11:36.031049Z",
     "iopub.status.busy": "2022-08-01T16:11:36.030377Z",
     "iopub.status.idle": "2022-08-01T16:11:36.289745Z",
     "shell.execute_reply": "2022-08-01T16:11:36.288680Z"
    },
    "papermill": {
     "duration": 0.271724,
     "end_time": "2022-08-01T16:11:36.291927",
     "exception": false,
     "start_time": "2022-08-01T16:11:36.020203",
     "status": "completed"
    },
    "tags": []
   },
   "outputs": [
    {
     "data": {
      "text/plain": [
       "<AxesSubplot:xlabel='highwaympg', ylabel='price'>"
      ]
     },
     "execution_count": 9,
     "metadata": {},
     "output_type": "execute_result"
    },
    {
     "data": {
      "image/png": "[encoded data removed]",
      "text/plain": [
       "<Figure size 432x288 with 1 Axes>"
      ]
     },
     "metadata": {
      "needs_background": "light"
     },
     "output_type": "display_data"
    }
   ],
   "source": [
    "sns.scatterplot(x='highwaympg',y='price',data=df)"
   ]
  },
  {
   "cell_type": "code",
   "execution_count": 10,
   "id": "1d85428b",
   "metadata": {
    "execution": {
     "iopub.execute_input": "2022-08-01T16:11:36.311917Z",
     "iopub.status.busy": "2022-08-01T16:11:36.311532Z",
     "iopub.status.idle": "2022-08-01T16:11:36.503554Z",
     "shell.execute_reply": "2022-08-01T16:11:36.502413Z"
    },
    "papermill": {
     "duration": 0.204994,
     "end_time": "2022-08-01T16:11:36.505970",
     "exception": false,
     "start_time": "2022-08-01T16:11:36.300976",
     "status": "completed"
    },
    "tags": []
   },
   "outputs": [],
   "source": [
    "from sklearn.model_selection import train_test_split"
   ]
  },
  {
   "cell_type": "code",
   "execution_count": 11,
   "id": "e0c7e4b0",
   "metadata": {
    "execution": {
     "iopub.execute_input": "2022-08-01T16:11:36.526571Z",
     "iopub.status.busy": "2022-08-01T16:11:36.526181Z",
     "iopub.status.idle": "2022-08-01T16:11:36.531111Z",
     "shell.execute_reply": "2022-08-01T16:11:36.530382Z"
    },
    "papermill": {
     "duration": 0.017989,
     "end_time": "2022-08-01T16:11:36.532908",
     "exception": false,
     "start_time": "2022-08-01T16:11:36.514919",
     "status": "completed"
    },
    "tags": []
   },
   "outputs": [],
   "source": [
    "y=df[['price']]"
   ]
  },
  {
   "cell_type": "code",
   "execution_count": 12,
   "id": "649504b0",
   "metadata": {
    "execution": {
     "iopub.execute_input": "2022-08-01T16:11:36.552049Z",
     "iopub.status.busy": "2022-08-01T16:11:36.551235Z",
     "iopub.status.idle": "2022-08-01T16:11:36.561893Z",
     "shell.execute_reply": "2022-08-01T16:11:36.561003Z"
    },
    "papermill": {
     "duration": 0.022237,
     "end_time": "2022-08-01T16:11:36.563800",
     "exception": false,
     "start_time": "2022-08-01T16:11:36.541563",
     "status": "completed"
    },
    "tags": []
   },
   "outputs": [
    {
     "data": {
      "text/html": [
       "<div>\n",
       "<style scoped>\n",
       "    .dataframe tbody tr th:only-of-type {\n",
       "        vertical-align: middle;\n",
       "    }\n",
       "\n",
       "    .dataframe tbody tr th {\n",
       "        vertical-align: top;\n",
       "    }\n",
       "\n",
       "    .dataframe thead th {\n",
       "        text-align: right;\n",
       "    }\n",
       "</style>\n",
       "<table border=\"1\" class=\"dataframe\">\n",
       "  <thead>\n",
       "    <tr style=\"text-align: right;\">\n",
       "      <th></th>\n",
       "      <th>price</th>\n",
       "    </tr>\n",
       "  </thead>\n",
       "  <tbody>\n",
       "    <tr>\n",
       "      <th>0</th>\n",
       "      <td>13495.0</td>\n",
       "    </tr>\n",
       "    <tr>\n",
       "      <th>1</th>\n",
       "      <td>16500.0</td>\n",
       "    </tr>\n",
       "    <tr>\n",
       "      <th>2</th>\n",
       "      <td>16500.0</td>\n",
       "    </tr>\n",
       "    <tr>\n",
       "      <th>3</th>\n",
       "      <td>13950.0</td>\n",
       "    </tr>\n",
       "    <tr>\n",
       "      <th>4</th>\n",
       "      <td>17450.0</td>\n",
       "    </tr>\n",
       "    <tr>\n",
       "      <th>...</th>\n",
       "      <td>...</td>\n",
       "    </tr>\n",
       "    <tr>\n",
       "      <th>200</th>\n",
       "      <td>16845.0</td>\n",
       "    </tr>\n",
       "    <tr>\n",
       "      <th>201</th>\n",
       "      <td>19045.0</td>\n",
       "    </tr>\n",
       "    <tr>\n",
       "      <th>202</th>\n",
       "      <td>21485.0</td>\n",
       "    </tr>\n",
       "    <tr>\n",
       "      <th>203</th>\n",
       "      <td>22470.0</td>\n",
       "    </tr>\n",
       "    <tr>\n",
       "      <th>204</th>\n",
       "      <td>22625.0</td>\n",
       "    </tr>\n",
       "  </tbody>\n",
       "</table>\n",
       "<p>205 rows × 1 columns</p>\n",
       "</div>"
      ],
      "text/plain": [
       "       price\n",
       "0    13495.0\n",
       "1    16500.0\n",
       "2    16500.0\n",
       "3    13950.0\n",
       "4    17450.0\n",
       "..       ...\n",
       "200  16845.0\n",
       "201  19045.0\n",
       "202  21485.0\n",
       "203  22470.0\n",
       "204  22625.0\n",
       "\n",
       "[205 rows x 1 columns]"
      ]
     },
     "execution_count": 12,
     "metadata": {},
     "output_type": "execute_result"
    }
   ],
   "source": [
    "y"
   ]
  },
  {
   "cell_type": "code",
   "execution_count": 13,
   "id": "84474c8b",
   "metadata": {
    "execution": {
     "iopub.execute_input": "2022-08-01T16:11:36.583600Z",
     "iopub.status.busy": "2022-08-01T16:11:36.582944Z",
     "iopub.status.idle": "2022-08-01T16:11:36.588105Z",
     "shell.execute_reply": "2022-08-01T16:11:36.587316Z"
    },
    "papermill": {
     "duration": 0.017564,
     "end_time": "2022-08-01T16:11:36.590042",
     "exception": false,
     "start_time": "2022-08-01T16:11:36.572478",
     "status": "completed"
    },
    "tags": []
   },
   "outputs": [],
   "source": [
    "x=df[['carlength','carwidth','curbweight','enginesize','boreratio','citympg','highwaympg']]"
   ]
  },
  {
   "cell_type": "code",
   "execution_count": 14,
   "id": "7ab03c27",
   "metadata": {
    "execution": {
     "iopub.execute_input": "2022-08-01T16:11:36.609930Z",
     "iopub.status.busy": "2022-08-01T16:11:36.609364Z",
     "iopub.status.idle": "2022-08-01T16:11:36.626742Z",
     "shell.execute_reply": "2022-08-01T16:11:36.625684Z"
    },
    "papermill": {
     "duration": 0.029971,
     "end_time": "2022-08-01T16:11:36.629013",
     "exception": false,
     "start_time": "2022-08-01T16:11:36.599042",
     "status": "completed"
    },
    "tags": []
   },
   "outputs": [
    {
     "data": {
      "text/html": [
       "<div>\n",
       "<style scoped>\n",
       "    .dataframe tbody tr th:only-of-type {\n",
       "        vertical-align: middle;\n",
       "    }\n",
       "\n",
       "    .dataframe tbody tr th {\n",
       "        vertical-align: top;\n",
       "    }\n",
       "\n",
       "    .dataframe thead th {\n",
       "        text-align: right;\n",
       "    }\n",
       "</style>\n",
       "<table border=\"1\" class=\"dataframe\">\n",
       "  <thead>\n",
       "    <tr style=\"text-align: right;\">\n",
       "      <th></th>\n",
       "      <th>carlength</th>\n",
       "      <th>carwidth</th>\n",
       "      <th>curbweight</th>\n",
       "      <th>enginesize</th>\n",
       "      <th>boreratio</th>\n",
       "      <th>citympg</th>\n",
       "      <th>highwaympg</th>\n",
       "    </tr>\n",
       "  </thead>\n",
       "  <tbody>\n",
       "    <tr>\n",
       "      <th>0</th>\n",
       "      <td>168.8</td>\n",
       "      <td>64.1</td>\n",
       "      <td>2548</td>\n",
       "      <td>130</td>\n",
       "      <td>3.47</td>\n",
       "      <td>21</td>\n",
       "      <td>27</td>\n",
       "    </tr>\n",
       "    <tr>\n",
       "      <th>1</th>\n",
       "      <td>168.8</td>\n",
       "      <td>64.1</td>\n",
       "      <td>2548</td>\n",
       "      <td>130</td>\n",
       "      <td>3.47</td>\n",
       "      <td>21</td>\n",
       "      <td>27</td>\n",
       "    </tr>\n",
       "    <tr>\n",
       "      <th>2</th>\n",
       "      <td>171.2</td>\n",
       "      <td>65.5</td>\n",
       "      <td>2823</td>\n",
       "      <td>152</td>\n",
       "      <td>2.68</td>\n",
       "      <td>19</td>\n",
       "      <td>26</td>\n",
       "    </tr>\n",
       "    <tr>\n",
       "      <th>3</th>\n",
       "      <td>176.6</td>\n",
       "      <td>66.2</td>\n",
       "      <td>2337</td>\n",
       "      <td>109</td>\n",
       "      <td>3.19</td>\n",
       "      <td>24</td>\n",
       "      <td>30</td>\n",
       "    </tr>\n",
       "    <tr>\n",
       "      <th>4</th>\n",
       "      <td>176.6</td>\n",
       "      <td>66.4</td>\n",
       "      <td>2824</td>\n",
       "      <td>136</td>\n",
       "      <td>3.19</td>\n",
       "      <td>18</td>\n",
       "      <td>22</td>\n",
       "    </tr>\n",
       "    <tr>\n",
       "      <th>...</th>\n",
       "      <td>...</td>\n",
       "      <td>...</td>\n",
       "      <td>...</td>\n",
       "      <td>...</td>\n",
       "      <td>...</td>\n",
       "      <td>...</td>\n",
       "      <td>...</td>\n",
       "    </tr>\n",
       "    <tr>\n",
       "      <th>200</th>\n",
       "      <td>188.8</td>\n",
       "      <td>68.9</td>\n",
       "      <td>2952</td>\n",
       "      <td>141</td>\n",
       "      <td>3.78</td>\n",
       "      <td>23</td>\n",
       "      <td>28</td>\n",
       "    </tr>\n",
       "    <tr>\n",
       "      <th>201</th>\n",
       "      <td>188.8</td>\n",
       "      <td>68.8</td>\n",
       "      <td>3049</td>\n",
       "      <td>141</td>\n",
       "      <td>3.78</td>\n",
       "      <td>19</td>\n",
       "      <td>25</td>\n",
       "    </tr>\n",
       "    <tr>\n",
       "      <th>202</th>\n",
       "      <td>188.8</td>\n",
       "      <td>68.9</td>\n",
       "      <td>3012</td>\n",
       "      <td>173</td>\n",
       "      <td>3.58</td>\n",
       "      <td>18</td>\n",
       "      <td>23</td>\n",
       "    </tr>\n",
       "    <tr>\n",
       "      <th>203</th>\n",
       "      <td>188.8</td>\n",
       "      <td>68.9</td>\n",
       "      <td>3217</td>\n",
       "      <td>145</td>\n",
       "      <td>3.01</td>\n",
       "      <td>26</td>\n",
       "      <td>27</td>\n",
       "    </tr>\n",
       "    <tr>\n",
       "      <th>204</th>\n",
       "      <td>188.8</td>\n",
       "      <td>68.9</td>\n",
       "      <td>3062</td>\n",
       "      <td>141</td>\n",
       "      <td>3.78</td>\n",
       "      <td>19</td>\n",
       "      <td>25</td>\n",
       "    </tr>\n",
       "  </tbody>\n",
       "</table>\n",
       "<p>205 rows × 7 columns</p>\n",
       "</div>"
      ],
      "text/plain": [
       "     carlength  carwidth  curbweight  enginesize  boreratio  citympg  \\\n",
       "0        168.8      64.1        2548         130       3.47       21   \n",
       "1        168.8      64.1        2548         130       3.47       21   \n",
       "2        171.2      65.5        2823         152       2.68       19   \n",
       "3        176.6      66.2        2337         109       3.19       24   \n",
       "4        176.6      66.4        2824         136       3.19       18   \n",
       "..         ...       ...         ...         ...        ...      ...   \n",
       "200      188.8      68.9        2952         141       3.78       23   \n",
       "201      188.8      68.8        3049         141       3.78       19   \n",
       "202      188.8      68.9        3012         173       3.58       18   \n",
       "203      188.8      68.9        3217         145       3.01       26   \n",
       "204      188.8      68.9        3062         141       3.78       19   \n",
       "\n",
       "     highwaympg  \n",
       "0            27  \n",
       "1            27  \n",
       "2            26  \n",
       "3            30  \n",
       "4            22  \n",
       "..          ...  \n",
       "200          28  \n",
       "201          25  \n",
       "202          23  \n",
       "203          27  \n",
       "204          25  \n",
       "\n",
       "[205 rows x 7 columns]"
      ]
     },
     "execution_count": 14,
     "metadata": {},
     "output_type": "execute_result"
    }
   ],
   "source": [
    "x"
   ]
  },
  {
   "cell_type": "code",
   "execution_count": 15,
   "id": "6cf7c3d6",
   "metadata": {
    "execution": {
     "iopub.execute_input": "2022-08-01T16:11:36.650837Z",
     "iopub.status.busy": "2022-08-01T16:11:36.650104Z",
     "iopub.status.idle": "2022-08-01T16:11:36.656832Z",
     "shell.execute_reply": "2022-08-01T16:11:36.655961Z"
    },
    "papermill": {
     "duration": 0.020057,
     "end_time": "2022-08-01T16:11:36.659032",
     "exception": false,
     "start_time": "2022-08-01T16:11:36.638975",
     "status": "completed"
    },
    "tags": []
   },
   "outputs": [],
   "source": [
    "x_train,x_test,y_train,y_test=train_test_split(x,y,test_size=0.3)"
   ]
  },
  {
   "cell_type": "code",
   "execution_count": 16,
   "id": "80a1b567",
   "metadata": {
    "execution": {
     "iopub.execute_input": "2022-08-01T16:11:36.679642Z",
     "iopub.status.busy": "2022-08-01T16:11:36.679275Z",
     "iopub.status.idle": "2022-08-01T16:11:36.697722Z",
     "shell.execute_reply": "2022-08-01T16:11:36.696676Z"
    },
    "papermill": {
     "duration": 0.031169,
     "end_time": "2022-08-01T16:11:36.699741",
     "exception": false,
     "start_time": "2022-08-01T16:11:36.668572",
     "status": "completed"
    },
    "tags": []
   },
   "outputs": [
    {
     "data": {
      "text/html": [
       "<div>\n",
       "<style scoped>\n",
       "    .dataframe tbody tr th:only-of-type {\n",
       "        vertical-align: middle;\n",
       "    }\n",
       "\n",
       "    .dataframe tbody tr th {\n",
       "        vertical-align: top;\n",
       "    }\n",
       "\n",
       "    .dataframe thead th {\n",
       "        text-align: right;\n",
       "    }\n",
       "</style>\n",
       "<table border=\"1\" class=\"dataframe\">\n",
       "  <thead>\n",
       "    <tr style=\"text-align: right;\">\n",
       "      <th></th>\n",
       "      <th>carlength</th>\n",
       "      <th>carwidth</th>\n",
       "      <th>curbweight</th>\n",
       "      <th>enginesize</th>\n",
       "      <th>boreratio</th>\n",
       "      <th>citympg</th>\n",
       "      <th>highwaympg</th>\n",
       "    </tr>\n",
       "  </thead>\n",
       "  <tbody>\n",
       "    <tr>\n",
       "      <th>166</th>\n",
       "      <td>168.7</td>\n",
       "      <td>64.0</td>\n",
       "      <td>2300</td>\n",
       "      <td>98</td>\n",
       "      <td>3.24</td>\n",
       "      <td>26</td>\n",
       "      <td>29</td>\n",
       "    </tr>\n",
       "    <tr>\n",
       "      <th>152</th>\n",
       "      <td>158.7</td>\n",
       "      <td>63.6</td>\n",
       "      <td>2015</td>\n",
       "      <td>92</td>\n",
       "      <td>3.05</td>\n",
       "      <td>31</td>\n",
       "      <td>38</td>\n",
       "    </tr>\n",
       "    <tr>\n",
       "      <th>157</th>\n",
       "      <td>166.3</td>\n",
       "      <td>64.4</td>\n",
       "      <td>2109</td>\n",
       "      <td>98</td>\n",
       "      <td>3.19</td>\n",
       "      <td>30</td>\n",
       "      <td>37</td>\n",
       "    </tr>\n",
       "    <tr>\n",
       "      <th>129</th>\n",
       "      <td>175.7</td>\n",
       "      <td>72.3</td>\n",
       "      <td>3366</td>\n",
       "      <td>203</td>\n",
       "      <td>3.94</td>\n",
       "      <td>17</td>\n",
       "      <td>28</td>\n",
       "    </tr>\n",
       "    <tr>\n",
       "      <th>3</th>\n",
       "      <td>176.6</td>\n",
       "      <td>66.2</td>\n",
       "      <td>2337</td>\n",
       "      <td>109</td>\n",
       "      <td>3.19</td>\n",
       "      <td>24</td>\n",
       "      <td>30</td>\n",
       "    </tr>\n",
       "    <tr>\n",
       "      <th>...</th>\n",
       "      <td>...</td>\n",
       "      <td>...</td>\n",
       "      <td>...</td>\n",
       "      <td>...</td>\n",
       "      <td>...</td>\n",
       "      <td>...</td>\n",
       "      <td>...</td>\n",
       "    </tr>\n",
       "    <tr>\n",
       "      <th>90</th>\n",
       "      <td>165.3</td>\n",
       "      <td>63.8</td>\n",
       "      <td>2017</td>\n",
       "      <td>103</td>\n",
       "      <td>2.99</td>\n",
       "      <td>45</td>\n",
       "      <td>50</td>\n",
       "    </tr>\n",
       "    <tr>\n",
       "      <th>7</th>\n",
       "      <td>192.7</td>\n",
       "      <td>71.4</td>\n",
       "      <td>2954</td>\n",
       "      <td>136</td>\n",
       "      <td>3.19</td>\n",
       "      <td>19</td>\n",
       "      <td>25</td>\n",
       "    </tr>\n",
       "    <tr>\n",
       "      <th>181</th>\n",
       "      <td>187.8</td>\n",
       "      <td>66.5</td>\n",
       "      <td>3151</td>\n",
       "      <td>161</td>\n",
       "      <td>3.27</td>\n",
       "      <td>19</td>\n",
       "      <td>24</td>\n",
       "    </tr>\n",
       "    <tr>\n",
       "      <th>36</th>\n",
       "      <td>157.1</td>\n",
       "      <td>63.9</td>\n",
       "      <td>2024</td>\n",
       "      <td>92</td>\n",
       "      <td>2.92</td>\n",
       "      <td>30</td>\n",
       "      <td>34</td>\n",
       "    </tr>\n",
       "    <tr>\n",
       "      <th>41</th>\n",
       "      <td>175.4</td>\n",
       "      <td>65.2</td>\n",
       "      <td>2465</td>\n",
       "      <td>110</td>\n",
       "      <td>3.15</td>\n",
       "      <td>24</td>\n",
       "      <td>28</td>\n",
       "    </tr>\n",
       "  </tbody>\n",
       "</table>\n",
       "<p>143 rows × 7 columns</p>\n",
       "</div>"
      ],
      "text/plain": [
       "     carlength  carwidth  curbweight  enginesize  boreratio  citympg  \\\n",
       "166      168.7      64.0        2300          98       3.24       26   \n",
       "152      158.7      63.6        2015          92       3.05       31   \n",
       "157      166.3      64.4        2109          98       3.19       30   \n",
       "129      175.7      72.3        3366         203       3.94       17   \n",
       "3        176.6      66.2        2337         109       3.19       24   \n",
       "..         ...       ...         ...         ...        ...      ...   \n",
       "90       165.3      63.8        2017         103       2.99       45   \n",
       "7        192.7      71.4        2954         136       3.19       19   \n",
       "181      187.8      66.5        3151         161       3.27       19   \n",
       "36       157.1      63.9        2024          92       2.92       30   \n",
       "41       175.4      65.2        2465         110       3.15       24   \n",
       "\n",
       "     highwaympg  \n",
       "166          29  \n",
       "152          38  \n",
       "157          37  \n",
       "129          28  \n",
       "3            30  \n",
       "..          ...  \n",
       "90           50  \n",
       "7            25  \n",
       "181          24  \n",
       "36           34  \n",
       "41           28  \n",
       "\n",
       "[143 rows x 7 columns]"
      ]
     },
     "execution_count": 16,
     "metadata": {},
     "output_type": "execute_result"
    }
   ],
   "source": [
    "x_train"
   ]
  },
  {
   "cell_type": "code",
   "execution_count": 17,
   "id": "6ac69b88",
   "metadata": {
    "execution": {
     "iopub.execute_input": "2022-08-01T16:11:36.720702Z",
     "iopub.status.busy": "2022-08-01T16:11:36.720341Z",
     "iopub.status.idle": "2022-08-01T16:11:36.793354Z",
     "shell.execute_reply": "2022-08-01T16:11:36.792556Z"
    },
    "papermill": {
     "duration": 0.086072,
     "end_time": "2022-08-01T16:11:36.795619",
     "exception": false,
     "start_time": "2022-08-01T16:11:36.709547",
     "status": "completed"
    },
    "tags": []
   },
   "outputs": [],
   "source": [
    "from sklearn.linear_model import LinearRegression"
   ]
  },
  {
   "cell_type": "code",
   "execution_count": 18,
   "id": "20695c70",
   "metadata": {
    "execution": {
     "iopub.execute_input": "2022-08-01T16:11:36.816480Z",
     "iopub.status.busy": "2022-08-01T16:11:36.815956Z",
     "iopub.status.idle": "2022-08-01T16:11:36.820633Z",
     "shell.execute_reply": "2022-08-01T16:11:36.819675Z"
    },
    "papermill": {
     "duration": 0.017358,
     "end_time": "2022-08-01T16:11:36.822633",
     "exception": false,
     "start_time": "2022-08-01T16:11:36.805275",
     "status": "completed"
    },
    "tags": []
   },
   "outputs": [],
   "source": [
    "lr=LinearRegression()"
   ]
  },
  {
   "cell_type": "code",
   "execution_count": 19,
   "id": "0b05da9d",
   "metadata": {
    "execution": {
     "iopub.execute_input": "2022-08-01T16:11:36.843831Z",
     "iopub.status.busy": "2022-08-01T16:11:36.843310Z",
     "iopub.status.idle": "2022-08-01T16:11:36.868561Z",
     "shell.execute_reply": "2022-08-01T16:11:36.867546Z"
    },
    "papermill": {
     "duration": 0.037787,
     "end_time": "2022-08-01T16:11:36.870517",
     "exception": false,
     "start_time": "2022-08-01T16:11:36.832730",
     "status": "completed"
    },
    "tags": []
   },
   "outputs": [
    {
     "data": {
      "text/plain": [
       "LinearRegression()"
      ]
     },
     "execution_count": 19,
     "metadata": {},
     "output_type": "execute_result"
    }
   ],
   "source": [
    "lr.fit(x_train,y_train)"
   ]
  },
  {
   "cell_type": "code",
   "execution_count": 20,
   "id": "28ed57e8",
   "metadata": {
    "execution": {
     "iopub.execute_input": "2022-08-01T16:11:36.891758Z",
     "iopub.status.busy": "2022-08-01T16:11:36.891046Z",
     "iopub.status.idle": "2022-08-01T16:11:36.901333Z",
     "shell.execute_reply": "2022-08-01T16:11:36.896839Z"
    },
    "papermill": {
     "duration": 0.02301,
     "end_time": "2022-08-01T16:11:36.903420",
     "exception": false,
     "start_time": "2022-08-01T16:11:36.880410",
     "status": "completed"
    },
    "tags": []
   },
   "outputs": [],
   "source": [
    "y_pred=lr.predict(x_test)"
   ]
  },
  {
   "cell_type": "code",
   "execution_count": 21,
   "id": "5a1d539a",
   "metadata": {
    "execution": {
     "iopub.execute_input": "2022-08-01T16:11:36.924311Z",
     "iopub.status.busy": "2022-08-01T16:11:36.923941Z",
     "iopub.status.idle": "2022-08-01T16:11:36.928715Z",
     "shell.execute_reply": "2022-08-01T16:11:36.927680Z"
    },
    "papermill": {
     "duration": 0.017987,
     "end_time": "2022-08-01T16:11:36.930991",
     "exception": false,
     "start_time": "2022-08-01T16:11:36.913004",
     "status": "completed"
    },
    "tags": []
   },
   "outputs": [],
   "source": [
    "y_pred=pd.DataFrame(y_pred)"
   ]
  },
  {
   "cell_type": "code",
   "execution_count": 22,
   "id": "75388538",
   "metadata": {
    "execution": {
     "iopub.execute_input": "2022-08-01T16:11:36.952836Z",
     "iopub.status.busy": "2022-08-01T16:11:36.952451Z",
     "iopub.status.idle": "2022-08-01T16:11:36.961177Z",
     "shell.execute_reply": "2022-08-01T16:11:36.960233Z"
    },
    "papermill": {
     "duration": 0.02229,
     "end_time": "2022-08-01T16:11:36.963545",
     "exception": false,
     "start_time": "2022-08-01T16:11:36.941255",
     "status": "completed"
    },
    "tags": []
   },
   "outputs": [
    {
     "data": {
      "text/html": [
       "<div>\n",
       "<style scoped>\n",
       "    .dataframe tbody tr th:only-of-type {\n",
       "        vertical-align: middle;\n",
       "    }\n",
       "\n",
       "    .dataframe tbody tr th {\n",
       "        vertical-align: top;\n",
       "    }\n",
       "\n",
       "    .dataframe thead th {\n",
       "        text-align: right;\n",
       "    }\n",
       "</style>\n",
       "<table border=\"1\" class=\"dataframe\">\n",
       "  <thead>\n",
       "    <tr style=\"text-align: right;\">\n",
       "      <th></th>\n",
       "      <th>0</th>\n",
       "    </tr>\n",
       "  </thead>\n",
       "  <tbody>\n",
       "    <tr>\n",
       "      <th>0</th>\n",
       "      <td>10405.409565</td>\n",
       "    </tr>\n",
       "    <tr>\n",
       "      <th>1</th>\n",
       "      <td>7355.431619</td>\n",
       "    </tr>\n",
       "    <tr>\n",
       "      <th>2</th>\n",
       "      <td>12315.254424</td>\n",
       "    </tr>\n",
       "    <tr>\n",
       "      <th>3</th>\n",
       "      <td>6680.079702</td>\n",
       "    </tr>\n",
       "    <tr>\n",
       "      <th>4</th>\n",
       "      <td>9933.812245</td>\n",
       "    </tr>\n",
       "  </tbody>\n",
       "</table>\n",
       "</div>"
      ],
      "text/plain": [
       "              0\n",
       "0  10405.409565\n",
       "1   7355.431619\n",
       "2  12315.254424\n",
       "3   6680.079702\n",
       "4   9933.812245"
      ]
     },
     "execution_count": 22,
     "metadata": {},
     "output_type": "execute_result"
    }
   ],
   "source": [
    "y_pred.head()"
   ]
  },
  {
   "cell_type": "code",
   "execution_count": 23,
   "id": "28fa2fd7",
   "metadata": {
    "execution": {
     "iopub.execute_input": "2022-08-01T16:11:36.985922Z",
     "iopub.status.busy": "2022-08-01T16:11:36.984856Z",
     "iopub.status.idle": "2022-08-01T16:11:36.993917Z",
     "shell.execute_reply": "2022-08-01T16:11:36.993206Z"
    },
    "papermill": {
     "duration": 0.022269,
     "end_time": "2022-08-01T16:11:36.995741",
     "exception": false,
     "start_time": "2022-08-01T16:11:36.973472",
     "status": "completed"
    },
    "tags": []
   },
   "outputs": [
    {
     "data": {
      "text/html": [
       "<div>\n",
       "<style scoped>\n",
       "    .dataframe tbody tr th:only-of-type {\n",
       "        vertical-align: middle;\n",
       "    }\n",
       "\n",
       "    .dataframe tbody tr th {\n",
       "        vertical-align: top;\n",
       "    }\n",
       "\n",
       "    .dataframe thead th {\n",
       "        text-align: right;\n",
       "    }\n",
       "</style>\n",
       "<table border=\"1\" class=\"dataframe\">\n",
       "  <thead>\n",
       "    <tr style=\"text-align: right;\">\n",
       "      <th></th>\n",
       "      <th>price</th>\n",
       "    </tr>\n",
       "  </thead>\n",
       "  <tbody>\n",
       "    <tr>\n",
       "      <th>37</th>\n",
       "      <td>7895.0</td>\n",
       "    </tr>\n",
       "    <tr>\n",
       "      <th>165</th>\n",
       "      <td>9298.0</td>\n",
       "    </tr>\n",
       "    <tr>\n",
       "      <th>61</th>\n",
       "      <td>10595.0</td>\n",
       "    </tr>\n",
       "    <tr>\n",
       "      <th>24</th>\n",
       "      <td>6229.0</td>\n",
       "    </tr>\n",
       "    <tr>\n",
       "      <th>11</th>\n",
       "      <td>16925.0</td>\n",
       "    </tr>\n",
       "  </tbody>\n",
       "</table>\n",
       "</div>"
      ],
      "text/plain": [
       "       price\n",
       "37    7895.0\n",
       "165   9298.0\n",
       "61   10595.0\n",
       "24    6229.0\n",
       "11   16925.0"
      ]
     },
     "execution_count": 23,
     "metadata": {},
     "output_type": "execute_result"
    }
   ],
   "source": [
    "y_test.head()"
   ]
  },
  {
   "cell_type": "code",
   "execution_count": 24,
   "id": "b1044791",
   "metadata": {
    "execution": {
     "iopub.execute_input": "2022-08-01T16:11:37.018172Z",
     "iopub.status.busy": "2022-08-01T16:11:37.017349Z",
     "iopub.status.idle": "2022-08-01T16:11:37.021356Z",
     "shell.execute_reply": "2022-08-01T16:11:37.020702Z"
    },
    "papermill": {
     "duration": 0.017417,
     "end_time": "2022-08-01T16:11:37.023248",
     "exception": false,
     "start_time": "2022-08-01T16:11:37.005831",
     "status": "completed"
    },
    "tags": []
   },
   "outputs": [],
   "source": [
    "from sklearn.metrics import mean_squared_error, r2_score"
   ]
  },
  {
   "cell_type": "code",
   "execution_count": 25,
   "id": "0398455c",
   "metadata": {
    "execution": {
     "iopub.execute_input": "2022-08-01T16:11:37.045080Z",
     "iopub.status.busy": "2022-08-01T16:11:37.044511Z",
     "iopub.status.idle": "2022-08-01T16:11:37.052443Z",
     "shell.execute_reply": "2022-08-01T16:11:37.051774Z"
    },
    "papermill": {
     "duration": 0.021003,
     "end_time": "2022-08-01T16:11:37.054310",
     "exception": false,
     "start_time": "2022-08-01T16:11:37.033307",
     "status": "completed"
    },
    "tags": []
   },
   "outputs": [
    {
     "data": {
      "text/plain": [
       "15289725.200387815"
      ]
     },
     "execution_count": 25,
     "metadata": {},
     "output_type": "execute_result"
    }
   ],
   "source": [
    "mean_squared_error(y_test,y_pred)"
   ]
  },
  {
   "cell_type": "code",
   "execution_count": 26,
   "id": "99d4d7ca",
   "metadata": {
    "execution": {
     "iopub.execute_input": "2022-08-01T16:11:37.077351Z",
     "iopub.status.busy": "2022-08-01T16:11:37.076730Z",
     "iopub.status.idle": "2022-08-01T16:11:37.084604Z",
     "shell.execute_reply": "2022-08-01T16:11:37.083960Z"
    },
    "papermill": {
     "duration": 0.021448,
     "end_time": "2022-08-01T16:11:37.086446",
     "exception": false,
     "start_time": "2022-08-01T16:11:37.064998",
     "status": "completed"
    },
    "tags": []
   },
   "outputs": [
    {
     "data": {
      "text/plain": [
       "0.7819408323853325"
      ]
     },
     "execution_count": 26,
     "metadata": {},
     "output_type": "execute_result"
    }
   ],
   "source": [
    "r2_score(y_test,y_pred)"
   ]
  },
  {
   "cell_type": "code",
   "execution_count": null,
   "id": "fc14a1df",
   "metadata": {
    "papermill": {
     "duration": 0.010356,
     "end_time": "2022-08-01T16:11:37.107267",
     "exception": false,
     "start_time": "2022-08-01T16:11:37.096911",
     "status": "completed"
    },
    "tags": []
   },
   "outputs": [],
   "source": []
  }
 ],
 "metadata": {
  "kernelspec": {
   "display_name": "Python 3",
   "language": "python",
   "name": "python3"
  },
  "language_info": {
   "codemirror_mode": {
    "name": "ipython",
    "version": 3
   },
   "file_extension": ".py",
   "mimetype": "text/x-python",
   "name": "python",
   "nbconvert_exporter": "python",
   "pygments_lexer": "ipython3",
   "version": "3.7.12"
  },
  "papermill": {
   "default_parameters": {},
   "duration": 12.351257,
   "end_time": "2022-08-01T16:11:37.837961",
   "environment_variables": {},
   "exception": null,
   "input_path": "__notebook__.ipynb",
   "output_path": "__notebook__.ipynb",
   "parameters": {},
   "start_time": "2022-08-01T16:11:25.486704",
   "version": "2.3.4"
  }
 },
 "nbformat": 4,
 "nbformat_minor": 5
}
